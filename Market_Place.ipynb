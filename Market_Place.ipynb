{
  "cells": [
    {
      "cell_type": "markdown",
      "metadata": {
        "id": "view-in-github",
        "colab_type": "text"
      },
      "source": [
        "<a href=\"https://colab.research.google.com/github/sara-paracha/Neo4j-Graph-Database/blob/main/Market_Place.ipynb\" target=\"_parent\"><img src=\"https://colab.research.google.com/assets/colab-badge.svg\" alt=\"Open In Colab\"/></a>"
      ]
    },
    {
      "cell_type": "markdown",
      "metadata": {
        "id": "g42KzUVGJ0s3"
      },
      "source": [
        "# **Project - Market Place**"
      ]
    },
    {
      "cell_type": "markdown",
      "metadata": {
        "id": "kMJc4QHWJ0tA"
      },
      "source": [
        "### **Objective**"
      ]
    },
    {
      "cell_type": "markdown",
      "metadata": {
        "id": "z5OS31t6J0tB"
      },
      "source": [
        "Our target is to search products in different market places, see their availability and compare their prices. For this we have created a remote database in neo4j based on various products from 4 categories available at Market Places like amazon, ebay, Target, Walmart, Bestbuy. Categories are : Electronics, Furniture, Toys and Books. \n",
        "\n",
        "Furthermore, 5 business questions were designed to do market analysis. Then on the basis of cypher queries graphs were created in neo4j.\n"
      ]
    },
    {
      "cell_type": "code",
      "execution_count": null,
      "metadata": {
        "colab": {
          "base_uri": "https://localhost:8080/"
        },
        "id": "WIR4L9oUJ0tC",
        "outputId": "5d9ebfef-a952-44a0-990a-0ddd2ea6e4c1"
      },
      "outputs": [
        {
          "name": "stdout",
          "output_type": "stream",
          "text": [
            "Collecting neo4j\n",
            "  Downloading neo4j-4.4.2.tar.gz (89 kB)\n",
            "\u001b[K     |████████████████████████████████| 89 kB 7.1 MB/s \n",
            "\u001b[?25hRequirement already satisfied: pytz in /usr/local/lib/python3.7/dist-packages (from neo4j) (2018.9)\n",
            "Building wheels for collected packages: neo4j\n",
            "  Building wheel for neo4j (setup.py) ... \u001b[?25l\u001b[?25hdone\n",
            "  Created wheel for neo4j: filename=neo4j-4.4.2-py3-none-any.whl size=115365 sha256=6eb921b8917ed2dc516b085e6c555b3b9e081b07697fb188f82203cc641d9dc2\n",
            "  Stored in directory: /root/.cache/pip/wheels/10/d6/28/95029d7f69690dbc3b93e4933197357987de34fbd44b50a0e4\n",
            "Successfully built neo4j\n",
            "Installing collected packages: neo4j\n",
            "Successfully installed neo4j-4.4.2\n"
          ]
        }
      ],
      "source": [
        "pip install neo4j"
      ]
    },
    {
      "cell_type": "code",
      "execution_count": null,
      "metadata": {
        "colab": {
          "base_uri": "https://localhost:8080/"
        },
        "id": "_5-nkWMVJ0tE",
        "outputId": "e9937b0a-8b9f-4b8f-dea8-9516c69670c7"
      },
      "outputs": [
        {
          "name": "stdout",
          "output_type": "stream",
          "text": [
            "Database Connected\n"
          ]
        }
      ],
      "source": [
        "#neo4j installed using pip install neo4j\n",
        "from neo4j import GraphDatabase\n",
        "from IPython.display import Image\n",
        "\n",
        "uri = \"neo4j+s://e2435550.databases.neo4j.io:7687\"\n",
        "password=\"J_Kcdo-IwE0MBP6F1UYRrQUrAZWbgIkD3_ClQsjUAAs\"\n",
        "\n",
        "\n",
        "#connecting our graph to neo4j driver\n",
        "driver = GraphDatabase.driver(uri, auth=(\"neo4j\", password))\n",
        "print(\"Database Connected\")"
      ]
    },
    {
      "cell_type": "markdown",
      "metadata": {
        "id": "l-kqXXInJ0tF"
      },
      "source": [
        "### **Creating data**"
      ]
    },
    {
      "cell_type": "code",
      "execution_count": null,
      "metadata": {
        "colab": {
          "base_uri": "https://localhost:8080/"
        },
        "id": "3w4jWcuAJ0tG",
        "outputId": "dc5d6d6c-dfa5-4bf8-9929-679e81742fc8"
      },
      "outputs": [
        {
          "name": "stdout",
          "output_type": "stream",
          "text": [
            "Data Created\n"
          ]
        }
      ],
      "source": [
        "marketPlaces = ['amazon', 'ebay', 'Target', 'Walmart', 'Bestbuy']\n",
        "ProductList=[{\"name\":\"Samsung Galaxy A30\",\n",
        "          \"price\":340,\n",
        "          \"currency\":\"USD\",\n",
        "          \"Category\":\"Electronics\",\n",
        "          \"marketName\":\"amazon\"},\n",
        "         {\"name\":\"Samsung Galaxy A30\",\n",
        "          \"price\":370,\n",
        "          \"currency\":\"USD\",\n",
        "          \"Category\":\"Electronics\",\n",
        "          \"marketName\":\"Ebay\"},\n",
        "         {\"name\":\"Samsung Galaxy A30\",\n",
        "          \"price\":3440,\n",
        "          \"currency\":\"USD\",\n",
        "          \"Category\":\"Electronics\",\n",
        "          \"marketName\":\"Bestbuy\"},\n",
        "         {\"name\":\"Samsung Galaxy A30\",\n",
        "          \"price\":330,                \n",
        "          \"currency\":\"USD\",\n",
        "          \"Category\":\"Electronics\",\n",
        "          \"marketName\":\"Walmart\"},\n",
        "         {\"name\":\"Walter Leather Recliner\",\n",
        "          \"price\":100,\n",
        "          \"currency\":\"USD\",\n",
        "          \"Category\":\"Furniture\",\n",
        "          \"marketName\":\"Walmart\"},\n",
        "         {\"name\":\"Walter Leather Recliner\",\n",
        "          \"price\":110,\n",
        "          \"currency\":\"USD\",\n",
        "          \"Category\":\"Furniture\",\n",
        "          \"marketName\":\"Ebay\"},\n",
        "          {\"name\":\"Walter Leather Recliner\",\n",
        "          \"price\":400,\n",
        "          \"currency\":\"USD\",\n",
        "          \"Category\":\"Furniture\",\n",
        "          \"marketName\":\"amazon\"},\n",
        "          {\"name\":\"LEGO Minecraft House\",\n",
        "          \"price\":40,\n",
        "          \"currency\":\"USD\",\n",
        "          \"Category\":\"Toys\",\n",
        "          \"marketName\":\"amazon\"},\n",
        "         {\"name\":\"LEGO Minecraft House\",\n",
        "          \"price\":99,\n",
        "          \"currency\":\"USD\",\n",
        "          \"Category\":\"Books\",\n",
        "          \"marketName\":\"Target\"},\n",
        "         {\"name\":\"Bird box\",\n",
        "          \"price\":25,\n",
        "          \"currency\":\"USD\",\n",
        "          \"Category\":\"Books\",\n",
        "          \"marketName\":\"Target\"},\n",
        "         {\"name\":\"The Rising Sun\",\n",
        "          \"price\":1,                \n",
        "          \"currency\":\"USD\",\n",
        "          \"Category\":\"Books\",\n",
        "          \"marketName\":\"Walmart\"},\n",
        "          {\"name\":\"The Da Vinci Code\",\n",
        "          \"price\":4,\n",
        "          \"currency\":\"USD\",\n",
        "          \"Category\":\"Books\",\n",
        "          \"marketName\":\"amazon\"},\n",
        "         {\"name\":\"The Da Vinci Code\",\n",
        "          \"price\":1,\n",
        "          \"currency\":\"USD\",\n",
        "          \"Category\":\"Books\",\n",
        "          \"marketName\":\"Ebay\"},\n",
        "         {\"name\":\"The Da Vinci Code\",\n",
        "          \"price\":14,\n",
        "          \"currency\":\"USD\",\n",
        "          \"Category\":\"Books\",\n",
        "          \"marketName\":\"Ebay\"},\n",
        "         {\"name\":\"The Da Vinci Code\",\n",
        "          \"price\":10,                \n",
        "          \"currency\":\"USD\",\n",
        "          \"Category\":\"Books\",\n",
        "          \"marketName\":\"Walmart\"},\n",
        "         {\"name\":\"Iphone 13 pro max\",\n",
        "          \"price\":700,\n",
        "          \"currency\":\"USD\",\n",
        "          \"Category\":\"Electronics\",\n",
        "          \"marketName\":\"amazon\"},\n",
        "         {\"name\":\"Iphone 13 pro max\",\n",
        "          \"price\":770,\n",
        "          \"currency\":\"USD\",\n",
        "          \"Category\":\"Electronics\",\n",
        "          \"marketName\":\"Ebay\"},\n",
        "         {\"name\":\"Iphone 13 pro max\",\n",
        "          \"price\":800,\n",
        "          \"currency\":\"USD\",\n",
        "          \"Category\":\"Electronics\",\n",
        "          \"marketName\":\"Bestbuy\"},\n",
        "         {\"name\":\"Shark Professional Steam Vaccum\",\n",
        "          \"price\":155,                \n",
        "          \"currency\":\"USD\",\n",
        "          \"Category\":\"Electronics\",\n",
        "          \"marketName\":\"Target\"},\n",
        "        {\"name\":\"BISSELL PowerFresh Vaccum\",\n",
        "          \"price\":500,                \n",
        "          \"currency\":\"USD\",\n",
        "          \"Category\":\"Electronics\",\n",
        "          \"marketName\":\"Target\"},\n",
        "        {\"name\":\"BISSELL PowerFresh Vaccum\",\n",
        "          \"price\":150,                \n",
        "          \"currency\":\"USD\",\n",
        "          \"Category\":\"Electronics\",\n",
        "          \"marketName\":\"Walmart\"},\n",
        "        {\"name\":\" Barbie Doll House\",\n",
        "          \"price\":150,\n",
        "          \"currency\":\"USD\",\n",
        "          \"Category\":\"Toys\",\n",
        "          \"marketName\":\"Target\"},\n",
        "         {\"name\":\"Barbie Doll House\",\n",
        "          \"price\":99,\n",
        "          \"currency\":\"USD\",\n",
        "          \"Category\":\"Books\",\n",
        "          \"marketName\":\"Walmart\"},\n",
        "        {\"name\":\"LG Smart Top Load Washer\",\n",
        "          \"price\":2000,\n",
        "          \"currency\":\"USD\",\n",
        "          \"Category\":\"Electronics\",\n",
        "          \"marketName\":\"Bestbuy\"},\n",
        "        {\"name\":\"Whirlpool High Efficiency Washer \",\n",
        "          \"price\":1200,\n",
        "          \"currency\":\"USD\",\n",
        "          \"Category\":\"Electronics\",\n",
        "          \"marketName\":\"Bestbuy\"}]\n",
        "print(\"Data Created\")"
      ]
    },
    {
      "cell_type": "markdown",
      "metadata": {
        "id": "1gxQWOxaJ0tJ"
      },
      "source": [
        "### **Importing data to neo4j**"
      ]
    },
    {
      "cell_type": "code",
      "execution_count": null,
      "metadata": {
        "colab": {
          "base_uri": "https://localhost:8080/"
        },
        "id": "FoXw92PJJ0tK",
        "outputId": "5f2808f8-3a94-4e9f-8e7b-232adf72cb87"
      },
      "outputs": [
        {
          "name": "stdout",
          "output_type": "stream",
          "text": [
            "data imported successfully\n"
          ]
        }
      ],
      "source": [
        "for product in ProductList:\n",
        "    with driver.session() as session:        \n",
        "        res=session.run('''merge(m:Market{Name:$mName})\n",
        "        merge(c:Category{Name:$cName})\n",
        "        merge(p:Product{Name:$pName,price: $pPrice , currency: \"USD\"})\n",
        "        merge(p)-[:productCategory]->(c)\n",
        "        merge(p)-[:availableAt]->(m)''',parameters={'mName':product[\"marketName\"],\n",
        "            'cName':product[\"Category\"],'pName':product[\"name\"],'pPrice':product[\"price\"]})\n",
        "print(\"data imported successfully\")"
      ]
    },
    {
      "cell_type": "markdown",
      "metadata": {
        "id": "PWGHeG90J0tL"
      },
      "source": [
        "### **Business Questions**"
      ]
    },
    {
      "cell_type": "markdown",
      "metadata": {
        "id": "qqLon9XPJ0tN"
      },
      "source": [
        "#### **Q1- List of all the market places where \"Walter Leather Recliner\" is available.**\n"
      ]
    },
    {
      "cell_type": "code",
      "execution_count": null,
      "metadata": {
        "colab": {
          "base_uri": "https://localhost:8080/"
        },
        "id": "92jUqoc-J0tP",
        "outputId": "5f035787-90f0-4487-8ba3-7128c7727673"
      },
      "outputs": [
        {
          "name": "stdout",
          "output_type": "stream",
          "text": [
            "Market Places where product is available:\n",
            "Walmart\n",
            "Ebay\n",
            "amazon\n"
          ]
        }
      ],
      "source": [
        "#Q1)list of all the market places where \"Walter Leather Recliner\" is available\n",
        "\n",
        "query='''match(n:Product{Name:\"Walter Leather Recliner\"})-[:availableAt]->(m:Market)\n",
        "return m.Name as MarketList'''\n",
        "res=[]\n",
        "with driver.session() as session:        \n",
        "    res=session.run(query)\n",
        "    print(\"Market Places where product is available:\")\n",
        "    for item in res:\n",
        "        print(item[0])"
      ]
    },
    {
      "cell_type": "markdown",
      "metadata": {
        "id": "m0vkteqjJ0tR"
      },
      "source": [
        "#### **Q2- List down all the products available on amazon with their category.**\n"
      ]
    },
    {
      "cell_type": "code",
      "execution_count": null,
      "metadata": {
        "colab": {
          "base_uri": "https://localhost:8080/"
        },
        "id": "gJSr3ckJJ0tS",
        "outputId": "976cbfb6-3cf1-4e5a-aa87-1060a5cfa4c7"
      },
      "outputs": [
        {
          "name": "stdout",
          "output_type": "stream",
          "text": [
            "Product List available on Amazon:\n",
            "\n",
            "\n",
            "Product Name\t\t\t\tCategory\n",
            "Iphone 13 pro max\t\t\tElectronics\n",
            "The Da Vinci Code\t\t\tBooks\n",
            "LEGO Minecraft House\t\t\tToys\n",
            "Walter Leather Recliner\t\t\tFurniture\n",
            "Samsung Galaxy A30\t\t\tElectronics\n"
          ]
        }
      ],
      "source": [
        "#Q2) list down all the products available on amazon with their category\n",
        "\n",
        "query='''match (c:Category)<-[:productCategory]-(n:Product)-[:availableAt]->(m:Market{Name:\"amazon\"})\n",
        "return n.Name as `Product List at Amazon`, c.Name as Category'''\n",
        "res=[]\n",
        "with driver.session() as session:        \n",
        "    res=session.run(query)\n",
        "    print(\"Product List available on Amazon:\\n\\n\")\n",
        "    print(\"Product Name\\t\\t\\t\\tCategory\")\n",
        "    for item in res:\n",
        "        print(item[0]+\"\\t\\t\\t\"+item[1])"
      ]
    },
    {
      "cell_type": "markdown",
      "metadata": {
        "id": "7mR3JHe9J0tT"
      },
      "source": [
        "#### **Q3- In which marketplace \"Samsung Galaxy A30\" is cheapest?**"
      ]
    },
    {
      "cell_type": "code",
      "execution_count": null,
      "metadata": {
        "colab": {
          "base_uri": "https://localhost:8080/"
        },
        "id": "nQZQMvSrJ0tT",
        "outputId": "499f7e37-1ac9-4c1e-c27d-aed7c01fbc58"
      },
      "outputs": [
        {
          "name": "stdout",
          "output_type": "stream",
          "text": [
            "Market Place where Samsung Galaxy A30 is cheapest:\n",
            "\n",
            "\n",
            "Name\t\t\tPrice\n",
            "Walmart\t\t\t330\n"
          ]
        }
      ],
      "source": [
        "#Q3) In which marketplace \"Samsung Galaxy A30\" is cheapest?\n",
        "\n",
        "query='''match (n:Product{Name:\"Samsung Galaxy A30\"})-[:availableAt]->(m:Market)\n",
        "return m.Name as Name,n.price as Price order by Price asc limit 1'''\n",
        "res=[]\n",
        "with driver.session() as session:        \n",
        "    res=session.run(query)\n",
        "    print(\"Market Place where Samsung Galaxy A30 is cheapest:\\n\\n\")\n",
        "    print(\"Name\\t\\t\\tPrice\")\n",
        "    for item in res:\n",
        "        print(str(item[0])+\"\\t\\t\\t\"+str(item[1]))"
      ]
    },
    {
      "cell_type": "markdown",
      "metadata": {
        "id": "5IrGLkepJ0tU"
      },
      "source": [
        "#### **Q4- Which one marketplace is cheaper to other in average?**\n"
      ]
    },
    {
      "cell_type": "code",
      "execution_count": null,
      "metadata": {
        "colab": {
          "base_uri": "https://localhost:8080/"
        },
        "id": "PWRjPzfDJ0tU",
        "outputId": "eec92263-7e8c-4c96-9bd9-266ce3484458"
      },
      "outputs": [
        {
          "name": "stdout",
          "output_type": "stream",
          "text": [
            "Average cheapest market:\n",
            "\n",
            "\n",
            "Name\t\t\tAverage Price\n",
            "Walmart\t\t\t115.0\n"
          ]
        }
      ],
      "source": [
        "#Q4)which one marketplace is cheaper to other in average?\n",
        "\n",
        "query='''match (n:Product)-[:availableAt]->(m:Market)\n",
        "match (n1:Product)-[:availableAt]->(m)\n",
        "where n.Name=n1.Name\n",
        "return m.Name,Avg(n.price) as AveragePrice order by AveragePrice asc limit 1'''\n",
        "with driver.session() as session:        \n",
        "    res=session.run(query)\n",
        "    print(\"Average cheapest market:\\n\\n\")\n",
        "    print(\"Name\\t\\t\\tAverage Price\")\n",
        "    for item in res:\n",
        "        print(str(item[0])+\"\\t\\t\\t\"+str(item[1]))"
      ]
    },
    {
      "cell_type": "markdown",
      "metadata": {
        "id": "h_4pjemxJ0tV"
      },
      "source": [
        "#### **Q5- List down the price of Iphone 13 pro max in all market places**\n"
      ]
    },
    {
      "cell_type": "code",
      "execution_count": null,
      "metadata": {
        "colab": {
          "base_uri": "https://localhost:8080/"
        },
        "id": "LsC-zwYYJ0tV",
        "outputId": "cbcc2d8d-844b-486e-f39d-83093c998a34"
      },
      "outputs": [
        {
          "name": "stdout",
          "output_type": "stream",
          "text": [
            "Iphone 13 pro max price in all market places:\n",
            "\n",
            "\n",
            "Market Name\t\tPrice\n",
            "Bestbuy\t\t\t800\n",
            "Ebay\t\t\t770\n",
            "amazon\t\t\t700\n"
          ]
        }
      ],
      "source": [
        "#Q5) List down the price of Iphone 13 pro max in all market places\n",
        "\n",
        "query='''match (n:Product{Name:\"Iphone 13 pro max\"})-[:availableAt]->(m:Market)\n",
        "return m.Name as MarketPlace,n.price as Price order by Price desc\n",
        "'''\n",
        "with driver.session() as session:        \n",
        "    res=session.run(query)\n",
        "    print(\"Iphone 13 pro max price in all market places:\\n\\n\")\n",
        "    print(\"Market Name\\t\\tPrice\")\n",
        "    for item in res:\n",
        "        print(str(item[0])+\"\\t\\t\\t\"+str(item[1]))"
      ]
    },
    {
      "cell_type": "markdown",
      "metadata": {
        "id": "i-jTvaFaJ0tW"
      },
      "source": [
        "#### **Q6)- In which marketplace \"BISSELL PowerFresh Vaccum\" is most expensive?**\n"
      ]
    },
    {
      "cell_type": "code",
      "execution_count": null,
      "metadata": {
        "colab": {
          "base_uri": "https://localhost:8080/"
        },
        "id": "sxdstHgmJ0tX",
        "outputId": "72306685-31f5-4088-a1b7-d05be70c5e74"
      },
      "outputs": [
        {
          "name": "stdout",
          "output_type": "stream",
          "text": [
            "Market Place where BISSELL PowerFresh Vaccum is most expensive:\n",
            "\n",
            "\n",
            "Name\t\t\tPrice\n",
            "Target\t\t\t500\n"
          ]
        }
      ],
      "source": [
        "#Q6) In which marketplace \"BISSELL PowerFresh Vaccum\" is most expensive?\n",
        "\n",
        "query='''match (n:Product{Name:\"BISSELL PowerFresh Vaccum\"})-[:availableAt]->(m:Market)\n",
        "return m.Name as Name,n.price as Price order by Price desc limit 1'''\n",
        "res=[]\n",
        "with driver.session() as session:        \n",
        "    res=session.run(query)\n",
        "    print(\"Market Place where BISSELL PowerFresh Vaccum is most expensive:\\n\\n\")\n",
        "    print(\"Name\\t\\t\\tPrice\")\n",
        "    for item in res:\n",
        "        print(str(item[0])+\"\\t\\t\\t\"+str(item[1]))"
      ]
    },
    {
      "cell_type": "markdown",
      "metadata": {
        "id": "lsyzt0rnJ0tY"
      },
      "source": [
        "### **Insights**\n",
        "\n",
        "As compared to other graph databases, Neo4j is one of the best graph database available. It's helpful in terms of:\n",
        "\n",
        "- easy to visualize data and see their connections.\n",
        "- easy to write data search queries.\n",
        "- Schemaless database. Don't need to maintain the architecture. its helpful when we don't have any definate shape of data.\n",
        "- easy to add data and make connections between nodes."
      ]
    },
    {
      "cell_type": "markdown",
      "metadata": {
        "id": "_yXxT2tLJ0tZ"
      },
      "source": [
        "### **Graph Showing Market Places**"
      ]
    },
    {
      "cell_type": "code",
      "execution_count": null,
      "metadata": {
        "id": "-VV9m52XZk91"
      },
      "outputs": [],
      "source": [
        "#!gdown --id 1keuaNIZ5vL315FkB54hL9IEb4PdiZKP5"
      ]
    },
    {
      "cell_type": "code",
      "execution_count": null,
      "metadata": {
        "colab": {
          "base_uri": "https://localhost:8080/",
          "height": 1000
        },
        "id": "9woTFSPWLw4U",
        "outputId": "426f1c45-e338-4814-c0a3-24bd69e523ad"
      },
      "outputs": [
        {
          "data": {
            "text/html": [
              "<img src=\"https://drive.google.com/uc?id=1keuaNIZ5vL315FkB54hL9IEb4PdiZKP5\"/>"
            ],
            "text/plain": [
              "<IPython.core.display.Image object>"
            ]
          },
          "metadata": {},
          "output_type": "display_data"
        }
      ],
      "source": [
        "remote_image = Image(url = 'https://drive.google.com/uc?id=1keuaNIZ5vL315FkB54hL9IEb4PdiZKP5')\n",
        "display(remote_image)"
      ]
    },
    {
      "cell_type": "markdown",
      "metadata": {
        "id": "I8xiSuE5J0tZ"
      },
      "source": [
        "### **Graph Showing categories**"
      ]
    },
    {
      "cell_type": "code",
      "execution_count": null,
      "metadata": {
        "id": "7gVWd3ESX1SI"
      },
      "outputs": [],
      "source": [
        "#!gdown --id 16ZKoPyp0rtRKLutpjqathagQ_plObZiB"
      ]
    },
    {
      "cell_type": "code",
      "execution_count": null,
      "metadata": {
        "colab": {
          "base_uri": "https://localhost:8080/",
          "height": 999
        },
        "id": "CKT06AhOLoqJ",
        "outputId": "6a8d06fa-b6e0-4860-e827-cbec137a83ef"
      },
      "outputs": [
        {
          "data": {
            "text/html": [
              "<img src=\"https://drive.google.com/uc?id=16ZKoPyp0rtRKLutpjqathagQ_plObZiB\"/>"
            ],
            "text/plain": [
              "<IPython.core.display.Image object>"
            ]
          },
          "metadata": {},
          "output_type": "display_data"
        }
      ],
      "source": [
        "remote_image = Image(url = 'https://drive.google.com/uc?id=16ZKoPyp0rtRKLutpjqathagQ_plObZiB')\n",
        "display(remote_image)"
      ]
    },
    {
      "cell_type": "markdown",
      "metadata": {
        "id": "kRmU9okZJ0ta"
      },
      "source": [
        "### **Graph with Relationships**"
      ]
    },
    {
      "cell_type": "code",
      "execution_count": null,
      "metadata": {
        "id": "b_D0021aZSEo"
      },
      "outputs": [],
      "source": [
        "#!gdown --id 1TDNfNMYc6tUT2na-PimswzZuDufIzZIu"
      ]
    },
    {
      "cell_type": "code",
      "execution_count": null,
      "metadata": {
        "colab": {
          "base_uri": "https://localhost:8080/",
          "height": 951
        },
        "id": "u66Zt5nCLC5u",
        "outputId": "0fa32a9f-c206-4ddd-a0d5-04b6c74360bf"
      },
      "outputs": [
        {
          "data": {
            "text/html": [
              "<img src=\"https://drive.google.com/uc?id=1TDNfNMYc6tUT2na-PimswzZuDufIzZIu\"/>"
            ],
            "text/plain": [
              "<IPython.core.display.Image object>"
            ]
          },
          "metadata": {},
          "output_type": "display_data"
        }
      ],
      "source": [
        "remote_image = Image(url = 'https://drive.google.com/uc?id=1TDNfNMYc6tUT2na-PimswzZuDufIzZIu')\n",
        "display(remote_image)"
      ]
    }
  ],
  "metadata": {
    "colab": {
      "collapsed_sections": [],
      "name": "Market_Place.ipynb",
      "provenance": [],
      "include_colab_link": true
    },
    "kernelspec": {
      "display_name": "Python 3",
      "language": "python",
      "name": "python3"
    },
    "language_info": {
      "codemirror_mode": {
        "name": "ipython",
        "version": 3
      },
      "file_extension": ".py",
      "mimetype": "text/x-python",
      "name": "python",
      "nbconvert_exporter": "python",
      "pygments_lexer": "ipython3",
      "version": "3.8.8"
    }
  },
  "nbformat": 4,
  "nbformat_minor": 0
}